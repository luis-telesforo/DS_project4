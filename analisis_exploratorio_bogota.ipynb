{
  "nbformat": 4,
  "nbformat_minor": 0,
  "metadata": {
    "colab": {
      "provenance": []
    },
    "kernelspec": {
      "name": "python3",
      "display_name": "Python 3"
    },
    "language_info": {
      "name": "python"
    }
  },
  "cells": [
    {
      "cell_type": "markdown",
      "source": [
        "#Análisis exploratorio: Inmuebles Bogotá\n",
        "\n",
        "Realizaremos un breve análisis exploratorio de una base de datos proporcionada por [Alura Latam](https://www.aluracursos.com/). En ella encontramos información acerca de diversos inmuebles ubicados en Bogotá.\n",
        "\n",
        "No realizaremos ninguna limpieza."
      ],
      "metadata": {
        "id": "qGW8k7mWhP7O"
      }
    },
    {
      "cell_type": "code",
      "source": [
        "from google.colab import drive\n",
        "\n",
        "drive.mount('/content/drive')"
      ],
      "metadata": {
        "id": "Y2BMxIBqhcl7",
        "colab": {
          "base_uri": "https://localhost:8080/"
        },
        "outputId": "8e490196-211c-414a-b505-9e6d35c647f1"
      },
      "execution_count": null,
      "outputs": [
        {
          "output_type": "stream",
          "name": "stdout",
          "text": [
            "Drive already mounted at /content/drive; to attempt to forcibly remount, call drive.mount(\"/content/drive\", force_remount=True).\n"
          ]
        }
      ]
    },
    {
      "cell_type": "code",
      "source": [
        "import pandas as pd\n",
        "import matplotlib.pyplot as plt"
      ],
      "metadata": {
        "id": "vQWP1ia-Bx9R"
      },
      "execution_count": null,
      "outputs": []
    },
    {
      "cell_type": "code",
      "source": [
        "inmuebles = pd.read_csv('/content/drive/MyDrive/alura/inmuebles_bogota.csv') \n",
        "inmuebles.head()"
      ],
      "metadata": {
        "colab": {
          "base_uri": "https://localhost:8080/",
          "height": 206
        },
        "id": "S73Bs_z6j2QX",
        "outputId": "05074309-54cd-4637-d00d-e2b30406e9e3"
      },
      "execution_count": null,
      "outputs": [
        {
          "output_type": "execute_result",
          "data": {
            "text/plain": [
              "          Tipo                                 Descripcion  Habitaciones  \\\n",
              "0  Apartamento  Apartamento en venta en Zona Noroccidental             3   \n",
              "1         Casa                   Casa en venta en Castilla             4   \n",
              "2  Apartamento     Apartamento en venta en Chico Reservado             3   \n",
              "3  Apartamento             Apartamento en venta en Usaquén             3   \n",
              "4  Apartamento         Apartamento en venta en Bella Suiza             2   \n",
              "\n",
              "   Baños  Área              Barrio                                    UPZ  \\\n",
              "0      2    70  Zona Noroccidental     CHAPINERO: Pardo Rubio + Chapinero   \n",
              "1      3   170            Castilla            KENNEDY: Castilla + Bavaria   \n",
              "2      3   144     Chico Reservado     CHAPINERO: Chicó Lago + El Refugio   \n",
              "3      2   154             Usaquén                                Usaquén   \n",
              "4      3   128         Bella Suiza  USAQUÉN: Country Club + Santa Bárbara   \n",
              "\n",
              "             Valor  \n",
              "0    $ 360.000.000  \n",
              "1    $ 670.000.000  \n",
              "2  $ 1.120.000.000  \n",
              "3    $ 890.000.000  \n",
              "4    $ 970.000.000  "
            ],
            "text/html": [
              "\n",
              "  <div id=\"df-7bc5b9f0-9144-4c9a-8191-8c82198f7e50\">\n",
              "    <div class=\"colab-df-container\">\n",
              "      <div>\n",
              "<style scoped>\n",
              "    .dataframe tbody tr th:only-of-type {\n",
              "        vertical-align: middle;\n",
              "    }\n",
              "\n",
              "    .dataframe tbody tr th {\n",
              "        vertical-align: top;\n",
              "    }\n",
              "\n",
              "    .dataframe thead th {\n",
              "        text-align: right;\n",
              "    }\n",
              "</style>\n",
              "<table border=\"1\" class=\"dataframe\">\n",
              "  <thead>\n",
              "    <tr style=\"text-align: right;\">\n",
              "      <th></th>\n",
              "      <th>Tipo</th>\n",
              "      <th>Descripcion</th>\n",
              "      <th>Habitaciones</th>\n",
              "      <th>Baños</th>\n",
              "      <th>Área</th>\n",
              "      <th>Barrio</th>\n",
              "      <th>UPZ</th>\n",
              "      <th>Valor</th>\n",
              "    </tr>\n",
              "  </thead>\n",
              "  <tbody>\n",
              "    <tr>\n",
              "      <th>0</th>\n",
              "      <td>Apartamento</td>\n",
              "      <td>Apartamento en venta en Zona Noroccidental</td>\n",
              "      <td>3</td>\n",
              "      <td>2</td>\n",
              "      <td>70</td>\n",
              "      <td>Zona Noroccidental</td>\n",
              "      <td>CHAPINERO: Pardo Rubio + Chapinero</td>\n",
              "      <td>$ 360.000.000</td>\n",
              "    </tr>\n",
              "    <tr>\n",
              "      <th>1</th>\n",
              "      <td>Casa</td>\n",
              "      <td>Casa en venta en Castilla</td>\n",
              "      <td>4</td>\n",
              "      <td>3</td>\n",
              "      <td>170</td>\n",
              "      <td>Castilla</td>\n",
              "      <td>KENNEDY: Castilla + Bavaria</td>\n",
              "      <td>$ 670.000.000</td>\n",
              "    </tr>\n",
              "    <tr>\n",
              "      <th>2</th>\n",
              "      <td>Apartamento</td>\n",
              "      <td>Apartamento en venta en Chico Reservado</td>\n",
              "      <td>3</td>\n",
              "      <td>3</td>\n",
              "      <td>144</td>\n",
              "      <td>Chico Reservado</td>\n",
              "      <td>CHAPINERO: Chicó Lago + El Refugio</td>\n",
              "      <td>$ 1.120.000.000</td>\n",
              "    </tr>\n",
              "    <tr>\n",
              "      <th>3</th>\n",
              "      <td>Apartamento</td>\n",
              "      <td>Apartamento en venta en Usaquén</td>\n",
              "      <td>3</td>\n",
              "      <td>2</td>\n",
              "      <td>154</td>\n",
              "      <td>Usaquén</td>\n",
              "      <td>Usaquén</td>\n",
              "      <td>$ 890.000.000</td>\n",
              "    </tr>\n",
              "    <tr>\n",
              "      <th>4</th>\n",
              "      <td>Apartamento</td>\n",
              "      <td>Apartamento en venta en Bella Suiza</td>\n",
              "      <td>2</td>\n",
              "      <td>3</td>\n",
              "      <td>128</td>\n",
              "      <td>Bella Suiza</td>\n",
              "      <td>USAQUÉN: Country Club + Santa Bárbara</td>\n",
              "      <td>$ 970.000.000</td>\n",
              "    </tr>\n",
              "  </tbody>\n",
              "</table>\n",
              "</div>\n",
              "      <button class=\"colab-df-convert\" onclick=\"convertToInteractive('df-7bc5b9f0-9144-4c9a-8191-8c82198f7e50')\"\n",
              "              title=\"Convert this dataframe to an interactive table.\"\n",
              "              style=\"display:none;\">\n",
              "        \n",
              "  <svg xmlns=\"http://www.w3.org/2000/svg\" height=\"24px\"viewBox=\"0 0 24 24\"\n",
              "       width=\"24px\">\n",
              "    <path d=\"M0 0h24v24H0V0z\" fill=\"none\"/>\n",
              "    <path d=\"M18.56 5.44l.94 2.06.94-2.06 2.06-.94-2.06-.94-.94-2.06-.94 2.06-2.06.94zm-11 1L8.5 8.5l.94-2.06 2.06-.94-2.06-.94L8.5 2.5l-.94 2.06-2.06.94zm10 10l.94 2.06.94-2.06 2.06-.94-2.06-.94-.94-2.06-.94 2.06-2.06.94z\"/><path d=\"M17.41 7.96l-1.37-1.37c-.4-.4-.92-.59-1.43-.59-.52 0-1.04.2-1.43.59L10.3 9.45l-7.72 7.72c-.78.78-.78 2.05 0 2.83L4 21.41c.39.39.9.59 1.41.59.51 0 1.02-.2 1.41-.59l7.78-7.78 2.81-2.81c.8-.78.8-2.07 0-2.86zM5.41 20L4 18.59l7.72-7.72 1.47 1.35L5.41 20z\"/>\n",
              "  </svg>\n",
              "      </button>\n",
              "      \n",
              "  <style>\n",
              "    .colab-df-container {\n",
              "      display:flex;\n",
              "      flex-wrap:wrap;\n",
              "      gap: 12px;\n",
              "    }\n",
              "\n",
              "    .colab-df-convert {\n",
              "      background-color: #E8F0FE;\n",
              "      border: none;\n",
              "      border-radius: 50%;\n",
              "      cursor: pointer;\n",
              "      display: none;\n",
              "      fill: #1967D2;\n",
              "      height: 32px;\n",
              "      padding: 0 0 0 0;\n",
              "      width: 32px;\n",
              "    }\n",
              "\n",
              "    .colab-df-convert:hover {\n",
              "      background-color: #E2EBFA;\n",
              "      box-shadow: 0px 1px 2px rgba(60, 64, 67, 0.3), 0px 1px 3px 1px rgba(60, 64, 67, 0.15);\n",
              "      fill: #174EA6;\n",
              "    }\n",
              "\n",
              "    [theme=dark] .colab-df-convert {\n",
              "      background-color: #3B4455;\n",
              "      fill: #D2E3FC;\n",
              "    }\n",
              "\n",
              "    [theme=dark] .colab-df-convert:hover {\n",
              "      background-color: #434B5C;\n",
              "      box-shadow: 0px 1px 3px 1px rgba(0, 0, 0, 0.15);\n",
              "      filter: drop-shadow(0px 1px 2px rgba(0, 0, 0, 0.3));\n",
              "      fill: #FFFFFF;\n",
              "    }\n",
              "  </style>\n",
              "\n",
              "      <script>\n",
              "        const buttonEl =\n",
              "          document.querySelector('#df-7bc5b9f0-9144-4c9a-8191-8c82198f7e50 button.colab-df-convert');\n",
              "        buttonEl.style.display =\n",
              "          google.colab.kernel.accessAllowed ? 'block' : 'none';\n",
              "\n",
              "        async function convertToInteractive(key) {\n",
              "          const element = document.querySelector('#df-7bc5b9f0-9144-4c9a-8191-8c82198f7e50');\n",
              "          const dataTable =\n",
              "            await google.colab.kernel.invokeFunction('convertToInteractive',\n",
              "                                                     [key], {});\n",
              "          if (!dataTable) return;\n",
              "\n",
              "          const docLinkHtml = 'Like what you see? Visit the ' +\n",
              "            '<a target=\"_blank\" href=https://colab.research.google.com/notebooks/data_table.ipynb>data table notebook</a>'\n",
              "            + ' to learn more about interactive tables.';\n",
              "          element.innerHTML = '';\n",
              "          dataTable['output_type'] = 'display_data';\n",
              "          await google.colab.output.renderOutput(dataTable, element);\n",
              "          const docLink = document.createElement('div');\n",
              "          docLink.innerHTML = docLinkHtml;\n",
              "          element.appendChild(docLink);\n",
              "        }\n",
              "      </script>\n",
              "    </div>\n",
              "  </div>\n",
              "  "
            ]
          },
          "metadata": {},
          "execution_count": 3
        }
      ]
    },
    {
      "cell_type": "markdown",
      "source": [
        "La base de datos consiste de más de 9 mil muestras y cada una de ellas tiene 8 variables diferentes. Realizaremos estadística descriptiva de algunas de ellas."
      ],
      "metadata": {
        "id": "X9ZjxJmmCZTX"
      }
    },
    {
      "cell_type": "code",
      "source": [
        "columnas = {'Baños':'Banos','Área':'Area'}\n",
        "inmuebles = inmuebles.rename(columns=columnas)\n",
        "inmuebles.info()"
      ],
      "metadata": {
        "colab": {
          "base_uri": "https://localhost:8080/"
        },
        "id": "X2nLnlFIn2EM",
        "outputId": "82c46a63-28cd-428c-bdd1-ef5cdd17a324"
      },
      "execution_count": null,
      "outputs": [
        {
          "output_type": "stream",
          "name": "stdout",
          "text": [
            "<class 'pandas.core.frame.DataFrame'>\n",
            "RangeIndex: 9520 entries, 0 to 9519\n",
            "Data columns (total 8 columns):\n",
            " #   Column        Non-Null Count  Dtype \n",
            "---  ------        --------------  ----- \n",
            " 0   Tipo          9520 non-null   object\n",
            " 1   Descripcion   9520 non-null   object\n",
            " 2   Habitaciones  9520 non-null   int64 \n",
            " 3   Banos         9520 non-null   int64 \n",
            " 4   Area          9520 non-null   int64 \n",
            " 5   Barrio        9520 non-null   object\n",
            " 6   UPZ           9478 non-null   object\n",
            " 7   Valor         9520 non-null   object\n",
            "dtypes: int64(3), object(5)\n",
            "memory usage: 595.1+ KB\n"
          ]
        }
      ]
    },
    {
      "cell_type": "markdown",
      "source": [
        "##Área de los inmuebles\n",
        "\n",
        "En promedio, ¿cuánto mide un inmueble en un barrio dado?\n"
      ],
      "metadata": {
        "id": "CXbfgKnyCvaK"
      }
    },
    {
      "cell_type": "code",
      "source": [
        "promedio_barrio = inmuebles.groupby('Barrio').mean()['Area']\n",
        "promedio_barrio"
      ],
      "metadata": {
        "colab": {
          "base_uri": "https://localhost:8080/"
        },
        "id": "j3IYReywvf26",
        "outputId": "bcea9229-89fb-4b1f-90d6-ec7454e178c0"
      },
      "execution_count": null,
      "outputs": [
        {
          "output_type": "execute_result",
          "data": {
            "text/plain": [
              "Barrio\n",
              "Alameda                97.000000\n",
              "Alhambra              190.411765\n",
              "Andes Norte           124.857143\n",
              "Antonio Nariño        163.062500\n",
              "Barrancas              70.200000\n",
              "                         ...    \n",
              "Villa Maria           207.153846\n",
              "Villas De Granada      86.590909\n",
              "Villemar               76.888889\n",
              "Zona Franca            54.000000\n",
              "Zona Noroccidental    135.785633\n",
              "Name: Area, Length: 149, dtype: float64"
            ]
          },
          "metadata": {},
          "execution_count": 5
        }
      ]
    },
    {
      "cell_type": "markdown",
      "source": [
        "Graficaremos el promedio de área para los 10 barrios que tienen el mayor promedio. Como podemos ver, el barrio de Modelia tiene, en promedio inmuebles con un área mucho mayor al resto"
      ],
      "metadata": {
        "id": "5Zt8xUSnOhhU"
      }
    },
    {
      "cell_type": "code",
      "source": [
        "top_11 = promedio_barrio.sort_values()[-11:]\n",
        "top_11"
      ],
      "metadata": {
        "colab": {
          "base_uri": "https://localhost:8080/"
        },
        "id": "PGLIWN-yOz_q",
        "outputId": "315b8b24-5420-4d0d-c47e-125451241bd1"
      },
      "execution_count": null,
      "outputs": [
        {
          "output_type": "execute_result",
          "data": {
            "text/plain": [
              "Barrio\n",
              "Las Delicias              276.333333\n",
              "Bellavista Occidental     286.200000\n",
              "Veraguas                  302.666667\n",
              "Santa Ana                 309.375000\n",
              "Las Ferias                320.000000\n",
              "Santa Librada             328.000000\n",
              "Restrepo                  336.500000\n",
              "La Soledad                378.625000\n",
              "Bosa Piamonte             400.000000\n",
              "Libertador                642.000000\n",
              "Modelia                  4316.750000\n",
              "Name: Area, dtype: float64"
            ]
          },
          "metadata": {},
          "execution_count": 6
        }
      ]
    },
    {
      "cell_type": "markdown",
      "source": [
        "Como podemos observar esa diferencia se debe al inmueble 7073 que tiene un área de 166243 $m^{2}$. Posiblemente sea un dato erróneo."
      ],
      "metadata": {
        "id": "kKLH34C8R5hk"
      }
    },
    {
      "cell_type": "code",
      "source": [
        "inmuebles_modelia = inmuebles[inmuebles['Barrio']=='Modelia']\n",
        "inmuebles_modelia"
      ],
      "metadata": {
        "colab": {
          "base_uri": "https://localhost:8080/",
          "height": 1000
        },
        "id": "8X6dofSRRnQu",
        "outputId": "e9ef301b-d31a-4367-b038-d6213566352b"
      },
      "execution_count": null,
      "outputs": [
        {
          "output_type": "execute_result",
          "data": {
            "text/plain": [
              "             Tipo                      Descripcion  Habitaciones  Banos  \\\n",
              "145          Casa         Casa en venta en Modelia             4      2   \n",
              "1283         Casa         Casa en venta en Modelia             8      4   \n",
              "1295  Apartamento  Apartamento en venta en Modelia             2      2   \n",
              "1363  Apartamento  Apartamento en venta en Modelia             3      2   \n",
              "1416  Apartamento  Apartamento en venta en Modelia             3      2   \n",
              "1665         Casa         Casa en venta en Modelia             3      2   \n",
              "2147         Casa         Casa en venta en Modelia             5      4   \n",
              "2160  Apartamento  Apartamento en venta en Modelia             3      2   \n",
              "2257         Casa         Casa en venta en Modelia             5      4   \n",
              "3092  Apartamento  Apartamento en venta en Modelia             3      3   \n",
              "3164  Apartamento  Apartamento en venta en Modelia             3      3   \n",
              "4138  Apartamento  Apartamento en venta en Modelia             3      3   \n",
              "4201  Apartamento  Apartamento en venta en Modelia             3      3   \n",
              "4513  Apartamento  Apartamento en venta en Modelia             3      2   \n",
              "4577  Apartamento  Apartamento en venta en Modelia             3      2   \n",
              "4913         Casa         Casa en venta en Modelia             5      4   \n",
              "4914         Casa         Casa en venta en Modelia             5      4   \n",
              "5059         Casa         Casa en venta en Modelia             7      6   \n",
              "5584  Apartamento  Apartamento en venta en Modelia             2      1   \n",
              "5666  Apartamento  Apartamento en venta en Modelia             3      3   \n",
              "6315         Casa         Casa en venta en Modelia             4      3   \n",
              "6525  Apartamento  Apartamento en venta en Modelia             2      1   \n",
              "6619         Casa         Casa en venta en Modelia             4      3   \n",
              "6708         Casa         Casa en venta en Modelia             3      2   \n",
              "6786         Casa         Casa en venta en Modelia             3      2   \n",
              "6869         Casa         Casa en venta en Modelia             3      2   \n",
              "6933         Casa         Casa en venta en Modelia             3      3   \n",
              "7028  Apartamento  Apartamento en venta en Modelia             3      3   \n",
              "7073         Casa         Casa en venta en Modelia             4      3   \n",
              "7881  Apartamento  Apartamento en venta en Modelia             3      3   \n",
              "7908         Casa         Casa en venta en Modelia             3      3   \n",
              "7996  Apartamento  Apartamento en venta en Modelia             4      3   \n",
              "8256         Casa         Casa en venta en Modelia             4      4   \n",
              "8377  Apartamento  Apartamento en venta en Modelia             4      3   \n",
              "8562         Casa         Casa en venta en Modelia             5      4   \n",
              "8899  Apartamento  Apartamento en venta en Modelia             3      2   \n",
              "8989         Casa         Casa en venta en Modelia             4      2   \n",
              "9012  Apartamento  Apartamento en venta en Modelia             3      2   \n",
              "9122         Casa         Casa en venta en Modelia             4      2   \n",
              "9326         Casa         Casa en venta en Modelia             5      3   \n",
              "\n",
              "        Area   Barrio       UPZ            Valor  \n",
              "145      200  Modelia  Fontibón    $ 860.000.000  \n",
              "1283     236  Modelia  Fontibón  $ 1.120.000.000  \n",
              "1295      48  Modelia  Fontibón    $ 330.000.000  \n",
              "1363      53  Modelia  Fontibón    $ 287.000.000  \n",
              "1416      87  Modelia  Fontibón    $ 499.990.000  \n",
              "1665     106  Modelia  Fontibón    $ 470.000.000  \n",
              "2147     320  Modelia  Fontibón    $ 750.000.000  \n",
              "2160      78  Modelia  Fontibón    $ 620.000.000  \n",
              "2257     244  Modelia  Fontibón    $ 950.000.000  \n",
              "3092     108  Modelia  Fontibón    $ 670.000.000  \n",
              "3164     108  Modelia  Fontibón    $ 670.000.000  \n",
              "4138      88  Modelia  Fontibón    $ 370.000.000  \n",
              "4201      88  Modelia  Fontibón    $ 370.000.000  \n",
              "4513      78  Modelia  Fontibón    $ 650.000.000  \n",
              "4577      78  Modelia  Fontibón    $ 620.000.000  \n",
              "4913     320  Modelia  Fontibón    $ 750.000.000  \n",
              "4914     320  Modelia  Fontibón    $ 750.000.000  \n",
              "5059     287  Modelia  Fontibón    $ 750.000.000  \n",
              "5584      60  Modelia  Fontibón    $ 260.000.000  \n",
              "5666     108  Modelia  Fontibón    $ 670.000.000  \n",
              "6315     209  Modelia  Fontibón    $ 850.000.000  \n",
              "6525      60  Modelia  Fontibón    $ 260.000.000  \n",
              "6619     209  Modelia  Fontibón    $ 850.000.000  \n",
              "6708     181  Modelia  Fontibón    $ 990.000.000  \n",
              "6786     181  Modelia  Fontibón    $ 990.000.000  \n",
              "6869     181  Modelia  Fontibón    $ 990.000.000  \n",
              "6933     220  Modelia  Fontibón    $ 950.000.000  \n",
              "7028     130  Modelia  Fontibón    $ 620.000.000  \n",
              "7073  166243  Modelia  Fontibón    $ 850.000.000  \n",
              "7881      92  Modelia  Fontibón    $ 610.000.000  \n",
              "7908     275  Modelia  Fontibón    $ 850.000.000  \n",
              "7996     120  Modelia  Fontibón    $ 700.000.000  \n",
              "8256     212  Modelia  Fontibón  $ 1.200.000.000  \n",
              "8377     112  Modelia  Fontibón    $ 560.000.000  \n",
              "8562     400  Modelia  Fontibón    $ 950.000.000  \n",
              "8899      70  Modelia  Fontibón    $ 445.900.000  \n",
              "8989     210  Modelia  Fontibón    $ 795.000.000  \n",
              "9012      70  Modelia  Fontibón    $ 445.900.000  \n",
              "9122     210  Modelia  Fontibón    $ 795.000.000  \n",
              "9326     270  Modelia  Fontibón  $ 1.100.000.000  "
            ],
            "text/html": [
              "\n",
              "  <div id=\"df-c94e2201-eb16-43a2-85c5-701d7ff9559c\">\n",
              "    <div class=\"colab-df-container\">\n",
              "      <div>\n",
              "<style scoped>\n",
              "    .dataframe tbody tr th:only-of-type {\n",
              "        vertical-align: middle;\n",
              "    }\n",
              "\n",
              "    .dataframe tbody tr th {\n",
              "        vertical-align: top;\n",
              "    }\n",
              "\n",
              "    .dataframe thead th {\n",
              "        text-align: right;\n",
              "    }\n",
              "</style>\n",
              "<table border=\"1\" class=\"dataframe\">\n",
              "  <thead>\n",
              "    <tr style=\"text-align: right;\">\n",
              "      <th></th>\n",
              "      <th>Tipo</th>\n",
              "      <th>Descripcion</th>\n",
              "      <th>Habitaciones</th>\n",
              "      <th>Banos</th>\n",
              "      <th>Area</th>\n",
              "      <th>Barrio</th>\n",
              "      <th>UPZ</th>\n",
              "      <th>Valor</th>\n",
              "    </tr>\n",
              "  </thead>\n",
              "  <tbody>\n",
              "    <tr>\n",
              "      <th>145</th>\n",
              "      <td>Casa</td>\n",
              "      <td>Casa en venta en Modelia</td>\n",
              "      <td>4</td>\n",
              "      <td>2</td>\n",
              "      <td>200</td>\n",
              "      <td>Modelia</td>\n",
              "      <td>Fontibón</td>\n",
              "      <td>$ 860.000.000</td>\n",
              "    </tr>\n",
              "    <tr>\n",
              "      <th>1283</th>\n",
              "      <td>Casa</td>\n",
              "      <td>Casa en venta en Modelia</td>\n",
              "      <td>8</td>\n",
              "      <td>4</td>\n",
              "      <td>236</td>\n",
              "      <td>Modelia</td>\n",
              "      <td>Fontibón</td>\n",
              "      <td>$ 1.120.000.000</td>\n",
              "    </tr>\n",
              "    <tr>\n",
              "      <th>1295</th>\n",
              "      <td>Apartamento</td>\n",
              "      <td>Apartamento en venta en Modelia</td>\n",
              "      <td>2</td>\n",
              "      <td>2</td>\n",
              "      <td>48</td>\n",
              "      <td>Modelia</td>\n",
              "      <td>Fontibón</td>\n",
              "      <td>$ 330.000.000</td>\n",
              "    </tr>\n",
              "    <tr>\n",
              "      <th>1363</th>\n",
              "      <td>Apartamento</td>\n",
              "      <td>Apartamento en venta en Modelia</td>\n",
              "      <td>3</td>\n",
              "      <td>2</td>\n",
              "      <td>53</td>\n",
              "      <td>Modelia</td>\n",
              "      <td>Fontibón</td>\n",
              "      <td>$ 287.000.000</td>\n",
              "    </tr>\n",
              "    <tr>\n",
              "      <th>1416</th>\n",
              "      <td>Apartamento</td>\n",
              "      <td>Apartamento en venta en Modelia</td>\n",
              "      <td>3</td>\n",
              "      <td>2</td>\n",
              "      <td>87</td>\n",
              "      <td>Modelia</td>\n",
              "      <td>Fontibón</td>\n",
              "      <td>$ 499.990.000</td>\n",
              "    </tr>\n",
              "    <tr>\n",
              "      <th>1665</th>\n",
              "      <td>Casa</td>\n",
              "      <td>Casa en venta en Modelia</td>\n",
              "      <td>3</td>\n",
              "      <td>2</td>\n",
              "      <td>106</td>\n",
              "      <td>Modelia</td>\n",
              "      <td>Fontibón</td>\n",
              "      <td>$ 470.000.000</td>\n",
              "    </tr>\n",
              "    <tr>\n",
              "      <th>2147</th>\n",
              "      <td>Casa</td>\n",
              "      <td>Casa en venta en Modelia</td>\n",
              "      <td>5</td>\n",
              "      <td>4</td>\n",
              "      <td>320</td>\n",
              "      <td>Modelia</td>\n",
              "      <td>Fontibón</td>\n",
              "      <td>$ 750.000.000</td>\n",
              "    </tr>\n",
              "    <tr>\n",
              "      <th>2160</th>\n",
              "      <td>Apartamento</td>\n",
              "      <td>Apartamento en venta en Modelia</td>\n",
              "      <td>3</td>\n",
              "      <td>2</td>\n",
              "      <td>78</td>\n",
              "      <td>Modelia</td>\n",
              "      <td>Fontibón</td>\n",
              "      <td>$ 620.000.000</td>\n",
              "    </tr>\n",
              "    <tr>\n",
              "      <th>2257</th>\n",
              "      <td>Casa</td>\n",
              "      <td>Casa en venta en Modelia</td>\n",
              "      <td>5</td>\n",
              "      <td>4</td>\n",
              "      <td>244</td>\n",
              "      <td>Modelia</td>\n",
              "      <td>Fontibón</td>\n",
              "      <td>$ 950.000.000</td>\n",
              "    </tr>\n",
              "    <tr>\n",
              "      <th>3092</th>\n",
              "      <td>Apartamento</td>\n",
              "      <td>Apartamento en venta en Modelia</td>\n",
              "      <td>3</td>\n",
              "      <td>3</td>\n",
              "      <td>108</td>\n",
              "      <td>Modelia</td>\n",
              "      <td>Fontibón</td>\n",
              "      <td>$ 670.000.000</td>\n",
              "    </tr>\n",
              "    <tr>\n",
              "      <th>3164</th>\n",
              "      <td>Apartamento</td>\n",
              "      <td>Apartamento en venta en Modelia</td>\n",
              "      <td>3</td>\n",
              "      <td>3</td>\n",
              "      <td>108</td>\n",
              "      <td>Modelia</td>\n",
              "      <td>Fontibón</td>\n",
              "      <td>$ 670.000.000</td>\n",
              "    </tr>\n",
              "    <tr>\n",
              "      <th>4138</th>\n",
              "      <td>Apartamento</td>\n",
              "      <td>Apartamento en venta en Modelia</td>\n",
              "      <td>3</td>\n",
              "      <td>3</td>\n",
              "      <td>88</td>\n",
              "      <td>Modelia</td>\n",
              "      <td>Fontibón</td>\n",
              "      <td>$ 370.000.000</td>\n",
              "    </tr>\n",
              "    <tr>\n",
              "      <th>4201</th>\n",
              "      <td>Apartamento</td>\n",
              "      <td>Apartamento en venta en Modelia</td>\n",
              "      <td>3</td>\n",
              "      <td>3</td>\n",
              "      <td>88</td>\n",
              "      <td>Modelia</td>\n",
              "      <td>Fontibón</td>\n",
              "      <td>$ 370.000.000</td>\n",
              "    </tr>\n",
              "    <tr>\n",
              "      <th>4513</th>\n",
              "      <td>Apartamento</td>\n",
              "      <td>Apartamento en venta en Modelia</td>\n",
              "      <td>3</td>\n",
              "      <td>2</td>\n",
              "      <td>78</td>\n",
              "      <td>Modelia</td>\n",
              "      <td>Fontibón</td>\n",
              "      <td>$ 650.000.000</td>\n",
              "    </tr>\n",
              "    <tr>\n",
              "      <th>4577</th>\n",
              "      <td>Apartamento</td>\n",
              "      <td>Apartamento en venta en Modelia</td>\n",
              "      <td>3</td>\n",
              "      <td>2</td>\n",
              "      <td>78</td>\n",
              "      <td>Modelia</td>\n",
              "      <td>Fontibón</td>\n",
              "      <td>$ 620.000.000</td>\n",
              "    </tr>\n",
              "    <tr>\n",
              "      <th>4913</th>\n",
              "      <td>Casa</td>\n",
              "      <td>Casa en venta en Modelia</td>\n",
              "      <td>5</td>\n",
              "      <td>4</td>\n",
              "      <td>320</td>\n",
              "      <td>Modelia</td>\n",
              "      <td>Fontibón</td>\n",
              "      <td>$ 750.000.000</td>\n",
              "    </tr>\n",
              "    <tr>\n",
              "      <th>4914</th>\n",
              "      <td>Casa</td>\n",
              "      <td>Casa en venta en Modelia</td>\n",
              "      <td>5</td>\n",
              "      <td>4</td>\n",
              "      <td>320</td>\n",
              "      <td>Modelia</td>\n",
              "      <td>Fontibón</td>\n",
              "      <td>$ 750.000.000</td>\n",
              "    </tr>\n",
              "    <tr>\n",
              "      <th>5059</th>\n",
              "      <td>Casa</td>\n",
              "      <td>Casa en venta en Modelia</td>\n",
              "      <td>7</td>\n",
              "      <td>6</td>\n",
              "      <td>287</td>\n",
              "      <td>Modelia</td>\n",
              "      <td>Fontibón</td>\n",
              "      <td>$ 750.000.000</td>\n",
              "    </tr>\n",
              "    <tr>\n",
              "      <th>5584</th>\n",
              "      <td>Apartamento</td>\n",
              "      <td>Apartamento en venta en Modelia</td>\n",
              "      <td>2</td>\n",
              "      <td>1</td>\n",
              "      <td>60</td>\n",
              "      <td>Modelia</td>\n",
              "      <td>Fontibón</td>\n",
              "      <td>$ 260.000.000</td>\n",
              "    </tr>\n",
              "    <tr>\n",
              "      <th>5666</th>\n",
              "      <td>Apartamento</td>\n",
              "      <td>Apartamento en venta en Modelia</td>\n",
              "      <td>3</td>\n",
              "      <td>3</td>\n",
              "      <td>108</td>\n",
              "      <td>Modelia</td>\n",
              "      <td>Fontibón</td>\n",
              "      <td>$ 670.000.000</td>\n",
              "    </tr>\n",
              "    <tr>\n",
              "      <th>6315</th>\n",
              "      <td>Casa</td>\n",
              "      <td>Casa en venta en Modelia</td>\n",
              "      <td>4</td>\n",
              "      <td>3</td>\n",
              "      <td>209</td>\n",
              "      <td>Modelia</td>\n",
              "      <td>Fontibón</td>\n",
              "      <td>$ 850.000.000</td>\n",
              "    </tr>\n",
              "    <tr>\n",
              "      <th>6525</th>\n",
              "      <td>Apartamento</td>\n",
              "      <td>Apartamento en venta en Modelia</td>\n",
              "      <td>2</td>\n",
              "      <td>1</td>\n",
              "      <td>60</td>\n",
              "      <td>Modelia</td>\n",
              "      <td>Fontibón</td>\n",
              "      <td>$ 260.000.000</td>\n",
              "    </tr>\n",
              "    <tr>\n",
              "      <th>6619</th>\n",
              "      <td>Casa</td>\n",
              "      <td>Casa en venta en Modelia</td>\n",
              "      <td>4</td>\n",
              "      <td>3</td>\n",
              "      <td>209</td>\n",
              "      <td>Modelia</td>\n",
              "      <td>Fontibón</td>\n",
              "      <td>$ 850.000.000</td>\n",
              "    </tr>\n",
              "    <tr>\n",
              "      <th>6708</th>\n",
              "      <td>Casa</td>\n",
              "      <td>Casa en venta en Modelia</td>\n",
              "      <td>3</td>\n",
              "      <td>2</td>\n",
              "      <td>181</td>\n",
              "      <td>Modelia</td>\n",
              "      <td>Fontibón</td>\n",
              "      <td>$ 990.000.000</td>\n",
              "    </tr>\n",
              "    <tr>\n",
              "      <th>6786</th>\n",
              "      <td>Casa</td>\n",
              "      <td>Casa en venta en Modelia</td>\n",
              "      <td>3</td>\n",
              "      <td>2</td>\n",
              "      <td>181</td>\n",
              "      <td>Modelia</td>\n",
              "      <td>Fontibón</td>\n",
              "      <td>$ 990.000.000</td>\n",
              "    </tr>\n",
              "    <tr>\n",
              "      <th>6869</th>\n",
              "      <td>Casa</td>\n",
              "      <td>Casa en venta en Modelia</td>\n",
              "      <td>3</td>\n",
              "      <td>2</td>\n",
              "      <td>181</td>\n",
              "      <td>Modelia</td>\n",
              "      <td>Fontibón</td>\n",
              "      <td>$ 990.000.000</td>\n",
              "    </tr>\n",
              "    <tr>\n",
              "      <th>6933</th>\n",
              "      <td>Casa</td>\n",
              "      <td>Casa en venta en Modelia</td>\n",
              "      <td>3</td>\n",
              "      <td>3</td>\n",
              "      <td>220</td>\n",
              "      <td>Modelia</td>\n",
              "      <td>Fontibón</td>\n",
              "      <td>$ 950.000.000</td>\n",
              "    </tr>\n",
              "    <tr>\n",
              "      <th>7028</th>\n",
              "      <td>Apartamento</td>\n",
              "      <td>Apartamento en venta en Modelia</td>\n",
              "      <td>3</td>\n",
              "      <td>3</td>\n",
              "      <td>130</td>\n",
              "      <td>Modelia</td>\n",
              "      <td>Fontibón</td>\n",
              "      <td>$ 620.000.000</td>\n",
              "    </tr>\n",
              "    <tr>\n",
              "      <th>7073</th>\n",
              "      <td>Casa</td>\n",
              "      <td>Casa en venta en Modelia</td>\n",
              "      <td>4</td>\n",
              "      <td>3</td>\n",
              "      <td>166243</td>\n",
              "      <td>Modelia</td>\n",
              "      <td>Fontibón</td>\n",
              "      <td>$ 850.000.000</td>\n",
              "    </tr>\n",
              "    <tr>\n",
              "      <th>7881</th>\n",
              "      <td>Apartamento</td>\n",
              "      <td>Apartamento en venta en Modelia</td>\n",
              "      <td>3</td>\n",
              "      <td>3</td>\n",
              "      <td>92</td>\n",
              "      <td>Modelia</td>\n",
              "      <td>Fontibón</td>\n",
              "      <td>$ 610.000.000</td>\n",
              "    </tr>\n",
              "    <tr>\n",
              "      <th>7908</th>\n",
              "      <td>Casa</td>\n",
              "      <td>Casa en venta en Modelia</td>\n",
              "      <td>3</td>\n",
              "      <td>3</td>\n",
              "      <td>275</td>\n",
              "      <td>Modelia</td>\n",
              "      <td>Fontibón</td>\n",
              "      <td>$ 850.000.000</td>\n",
              "    </tr>\n",
              "    <tr>\n",
              "      <th>7996</th>\n",
              "      <td>Apartamento</td>\n",
              "      <td>Apartamento en venta en Modelia</td>\n",
              "      <td>4</td>\n",
              "      <td>3</td>\n",
              "      <td>120</td>\n",
              "      <td>Modelia</td>\n",
              "      <td>Fontibón</td>\n",
              "      <td>$ 700.000.000</td>\n",
              "    </tr>\n",
              "    <tr>\n",
              "      <th>8256</th>\n",
              "      <td>Casa</td>\n",
              "      <td>Casa en venta en Modelia</td>\n",
              "      <td>4</td>\n",
              "      <td>4</td>\n",
              "      <td>212</td>\n",
              "      <td>Modelia</td>\n",
              "      <td>Fontibón</td>\n",
              "      <td>$ 1.200.000.000</td>\n",
              "    </tr>\n",
              "    <tr>\n",
              "      <th>8377</th>\n",
              "      <td>Apartamento</td>\n",
              "      <td>Apartamento en venta en Modelia</td>\n",
              "      <td>4</td>\n",
              "      <td>3</td>\n",
              "      <td>112</td>\n",
              "      <td>Modelia</td>\n",
              "      <td>Fontibón</td>\n",
              "      <td>$ 560.000.000</td>\n",
              "    </tr>\n",
              "    <tr>\n",
              "      <th>8562</th>\n",
              "      <td>Casa</td>\n",
              "      <td>Casa en venta en Modelia</td>\n",
              "      <td>5</td>\n",
              "      <td>4</td>\n",
              "      <td>400</td>\n",
              "      <td>Modelia</td>\n",
              "      <td>Fontibón</td>\n",
              "      <td>$ 950.000.000</td>\n",
              "    </tr>\n",
              "    <tr>\n",
              "      <th>8899</th>\n",
              "      <td>Apartamento</td>\n",
              "      <td>Apartamento en venta en Modelia</td>\n",
              "      <td>3</td>\n",
              "      <td>2</td>\n",
              "      <td>70</td>\n",
              "      <td>Modelia</td>\n",
              "      <td>Fontibón</td>\n",
              "      <td>$ 445.900.000</td>\n",
              "    </tr>\n",
              "    <tr>\n",
              "      <th>8989</th>\n",
              "      <td>Casa</td>\n",
              "      <td>Casa en venta en Modelia</td>\n",
              "      <td>4</td>\n",
              "      <td>2</td>\n",
              "      <td>210</td>\n",
              "      <td>Modelia</td>\n",
              "      <td>Fontibón</td>\n",
              "      <td>$ 795.000.000</td>\n",
              "    </tr>\n",
              "    <tr>\n",
              "      <th>9012</th>\n",
              "      <td>Apartamento</td>\n",
              "      <td>Apartamento en venta en Modelia</td>\n",
              "      <td>3</td>\n",
              "      <td>2</td>\n",
              "      <td>70</td>\n",
              "      <td>Modelia</td>\n",
              "      <td>Fontibón</td>\n",
              "      <td>$ 445.900.000</td>\n",
              "    </tr>\n",
              "    <tr>\n",
              "      <th>9122</th>\n",
              "      <td>Casa</td>\n",
              "      <td>Casa en venta en Modelia</td>\n",
              "      <td>4</td>\n",
              "      <td>2</td>\n",
              "      <td>210</td>\n",
              "      <td>Modelia</td>\n",
              "      <td>Fontibón</td>\n",
              "      <td>$ 795.000.000</td>\n",
              "    </tr>\n",
              "    <tr>\n",
              "      <th>9326</th>\n",
              "      <td>Casa</td>\n",
              "      <td>Casa en venta en Modelia</td>\n",
              "      <td>5</td>\n",
              "      <td>3</td>\n",
              "      <td>270</td>\n",
              "      <td>Modelia</td>\n",
              "      <td>Fontibón</td>\n",
              "      <td>$ 1.100.000.000</td>\n",
              "    </tr>\n",
              "  </tbody>\n",
              "</table>\n",
              "</div>\n",
              "      <button class=\"colab-df-convert\" onclick=\"convertToInteractive('df-c94e2201-eb16-43a2-85c5-701d7ff9559c')\"\n",
              "              title=\"Convert this dataframe to an interactive table.\"\n",
              "              style=\"display:none;\">\n",
              "        \n",
              "  <svg xmlns=\"http://www.w3.org/2000/svg\" height=\"24px\"viewBox=\"0 0 24 24\"\n",
              "       width=\"24px\">\n",
              "    <path d=\"M0 0h24v24H0V0z\" fill=\"none\"/>\n",
              "    <path d=\"M18.56 5.44l.94 2.06.94-2.06 2.06-.94-2.06-.94-.94-2.06-.94 2.06-2.06.94zm-11 1L8.5 8.5l.94-2.06 2.06-.94-2.06-.94L8.5 2.5l-.94 2.06-2.06.94zm10 10l.94 2.06.94-2.06 2.06-.94-2.06-.94-.94-2.06-.94 2.06-2.06.94z\"/><path d=\"M17.41 7.96l-1.37-1.37c-.4-.4-.92-.59-1.43-.59-.52 0-1.04.2-1.43.59L10.3 9.45l-7.72 7.72c-.78.78-.78 2.05 0 2.83L4 21.41c.39.39.9.59 1.41.59.51 0 1.02-.2 1.41-.59l7.78-7.78 2.81-2.81c.8-.78.8-2.07 0-2.86zM5.41 20L4 18.59l7.72-7.72 1.47 1.35L5.41 20z\"/>\n",
              "  </svg>\n",
              "      </button>\n",
              "      \n",
              "  <style>\n",
              "    .colab-df-container {\n",
              "      display:flex;\n",
              "      flex-wrap:wrap;\n",
              "      gap: 12px;\n",
              "    }\n",
              "\n",
              "    .colab-df-convert {\n",
              "      background-color: #E8F0FE;\n",
              "      border: none;\n",
              "      border-radius: 50%;\n",
              "      cursor: pointer;\n",
              "      display: none;\n",
              "      fill: #1967D2;\n",
              "      height: 32px;\n",
              "      padding: 0 0 0 0;\n",
              "      width: 32px;\n",
              "    }\n",
              "\n",
              "    .colab-df-convert:hover {\n",
              "      background-color: #E2EBFA;\n",
              "      box-shadow: 0px 1px 2px rgba(60, 64, 67, 0.3), 0px 1px 3px 1px rgba(60, 64, 67, 0.15);\n",
              "      fill: #174EA6;\n",
              "    }\n",
              "\n",
              "    [theme=dark] .colab-df-convert {\n",
              "      background-color: #3B4455;\n",
              "      fill: #D2E3FC;\n",
              "    }\n",
              "\n",
              "    [theme=dark] .colab-df-convert:hover {\n",
              "      background-color: #434B5C;\n",
              "      box-shadow: 0px 1px 3px 1px rgba(0, 0, 0, 0.15);\n",
              "      filter: drop-shadow(0px 1px 2px rgba(0, 0, 0, 0.3));\n",
              "      fill: #FFFFFF;\n",
              "    }\n",
              "  </style>\n",
              "\n",
              "      <script>\n",
              "        const buttonEl =\n",
              "          document.querySelector('#df-c94e2201-eb16-43a2-85c5-701d7ff9559c button.colab-df-convert');\n",
              "        buttonEl.style.display =\n",
              "          google.colab.kernel.accessAllowed ? 'block' : 'none';\n",
              "\n",
              "        async function convertToInteractive(key) {\n",
              "          const element = document.querySelector('#df-c94e2201-eb16-43a2-85c5-701d7ff9559c');\n",
              "          const dataTable =\n",
              "            await google.colab.kernel.invokeFunction('convertToInteractive',\n",
              "                                                     [key], {});\n",
              "          if (!dataTable) return;\n",
              "\n",
              "          const docLinkHtml = 'Like what you see? Visit the ' +\n",
              "            '<a target=\"_blank\" href=https://colab.research.google.com/notebooks/data_table.ipynb>data table notebook</a>'\n",
              "            + ' to learn more about interactive tables.';\n",
              "          element.innerHTML = '';\n",
              "          dataTable['output_type'] = 'display_data';\n",
              "          await google.colab.output.renderOutput(dataTable, element);\n",
              "          const docLink = document.createElement('div');\n",
              "          docLink.innerHTML = docLinkHtml;\n",
              "          element.appendChild(docLink);\n",
              "        }\n",
              "      </script>\n",
              "    </div>\n",
              "  </div>\n",
              "  "
            ]
          },
          "metadata": {},
          "execution_count": 7
        }
      ]
    },
    {
      "cell_type": "markdown",
      "source": [
        "Para realizar nuestro gráfico, eliminaremos Modelia"
      ],
      "metadata": {
        "id": "-hUpMguqSdkv"
      }
    },
    {
      "cell_type": "code",
      "source": [
        "top_10 = top_11[:-1]"
      ],
      "metadata": {
        "id": "bbOvYeGtSlBR"
      },
      "execution_count": null,
      "outputs": []
    },
    {
      "cell_type": "code",
      "source": [
        "plt.figure(figsize=(7,7))\n",
        "\n",
        "bars = plt.barh(top_10.index,top_10.values,alpha=.6)\n",
        "\n",
        "plt.xticks(ticks=[])\n",
        "\n",
        "plt.gca().tick_params(axis='y', which='both',length=0,labelcolor='gray')\n",
        "\n",
        "plt.gca().set_frame_on(False)\n",
        "\n",
        "plt.title('Los 10 mayores promedios en $m^{2}$ por barrio ', alpha=0.9,c='gray')\n",
        "\n",
        "for bar in bars:\n",
        "    plt.gca().text(bar.get_width()-50, bar.get_y()+.4, str(int(bar.get_width())) + '$m^2$', \n",
        "                 va='center', color='w', fontsize=8)\n"
      ],
      "metadata": {
        "colab": {
          "base_uri": "https://localhost:8080/",
          "height": 431
        },
        "id": "c2f8zRt1Ph5w",
        "outputId": "44875bf6-071d-416e-aeb0-eeb9630014e9"
      },
      "execution_count": null,
      "outputs": [
        {
          "output_type": "display_data",
          "data": {
            "text/plain": [
              "<Figure size 504x504 with 1 Axes>"
            ],
            "image/png": "[encoded data removed]"
          },
          "metadata": {
            "needs_background": "dark"
          }
        }
      ]
    },
    {
      "cell_type": "markdown",
      "source": [
        "Para finalizar este breve análisis exploratorio calcularemos la matrix de correlation entre las variables de los inmuebles.\n",
        "\n",
        "Para ello convertiremos la variable Valor a flotante."
      ],
      "metadata": {
        "id": "X7DTYvaDWheT"
      }
    },
    {
      "cell_type": "code",
      "source": [
        "inmuebles['Valor'] = inmuebles['Valor'].str.replace('$','',regex=True)\n",
        "inmuebles['Valor'] = inmuebles['Valor'].str.replace('.','',regex=True)\n",
        "inmuebles['Valor'] = inmuebles['Valor'].astype('float')"
      ],
      "metadata": {
        "id": "77H-D3fNYqsi"
      },
      "execution_count": null,
      "outputs": []
    },
    {
      "cell_type": "markdown",
      "source": [
        "Como podemos observar la correlación entre el valor y el área es muy pequeña. Por lo tanto, podemos esperar que inmuebles pequeños cuesten mucho. Sin embargo, recordemos que hay algunos datos atípicos que parecen erróneos."
      ],
      "metadata": {
        "id": "274wBMeWZ3xo"
      }
    },
    {
      "cell_type": "code",
      "source": [
        "inmuebles.corr('pearson')['Valor']"
      ],
      "metadata": {
        "id": "l7IujydcVLW0",
        "colab": {
          "base_uri": "https://localhost:8080/"
        },
        "outputId": "ba3e5e97-b454-4a50-8799-cbee73d226cb"
      },
      "execution_count": null,
      "outputs": [
        {
          "output_type": "execute_result",
          "data": {
            "text/plain": [
              "Habitaciones    0.244292\n",
              "Banos           0.590348\n",
              "Area            0.057585\n",
              "Valor           1.000000\n",
              "Name: Valor, dtype: float64"
            ]
          },
          "metadata": {},
          "execution_count": 16
        }
      ]
    },
    {
      "cell_type": "markdown",
      "source": [
        "Si eliminamos los inmuebles con área mayor que 10000 $m^{2}$, los resultados son más razonables, sin embargo, la correlación entre área y valor sigue siendo muy baja."
      ],
      "metadata": {
        "id": "MacOdRbZerRT"
      }
    },
    {
      "cell_type": "code",
      "source": [
        "inmuebles_baja_area = inmuebles[inmuebles['Area']<10000]"
      ],
      "metadata": {
        "id": "z1igQ-CudzQ6"
      },
      "execution_count": null,
      "outputs": []
    },
    {
      "cell_type": "code",
      "source": [
        "inmuebles_baja_area.corr('pearson')['Valor']"
      ],
      "metadata": {
        "colab": {
          "base_uri": "https://localhost:8080/"
        },
        "id": "TRrhY9j2ecET",
        "outputId": "b323a839-dfa4-435f-914d-035fc9fed0c5"
      },
      "execution_count": null,
      "outputs": [
        {
          "output_type": "execute_result",
          "data": {
            "text/plain": [
              "Habitaciones    0.244308\n",
              "Banos           0.590258\n",
              "Area            0.418566\n",
              "Valor           1.000000\n",
              "Name: Valor, dtype: float64"
            ]
          },
          "metadata": {},
          "execution_count": 28
        }
      ]
    },
    {
      "cell_type": "code",
      "source": [
        "plt.figure(figsize=(10,10))\n",
        "\n",
        "plt.gca().tick_params( which='both',length=0,labelcolor='gray')\n",
        "\n",
        "plt.scatter(inmuebles_baja_area.Area,inmuebles_baja_area.Valor)"
      ],
      "metadata": {
        "colab": {
          "base_uri": "https://localhost:8080/",
          "height": 616
        },
        "id": "weUNZN4iYf3S",
        "outputId": "fdb0121e-40d7-43ea-906c-acaf70823000"
      },
      "execution_count": null,
      "outputs": [
        {
          "output_type": "execute_result",
          "data": {
            "text/plain": [
              "<matplotlib.collections.PathCollection at 0x7f50b34f3880>"
            ]
          },
          "metadata": {},
          "execution_count": 32
        },
        {
          "output_type": "display_data",
          "data": {
            "text/plain": [
              "<Figure size 720x720 with 1 Axes>"
            ],
            "image/png": "[encoded data removed]"
          },
          "metadata": {
            "needs_background": "dark"
          }
        }
      ]
    },
    {
      "cell_type": "code",
      "source": [],
      "metadata": {
        "id": "vv96PKz1bR9f"
      },
      "execution_count": null,
      "outputs": []
    }
  ]
}